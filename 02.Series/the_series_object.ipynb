{
 "cells": [
  {
   "cell_type": "code",
   "execution_count": 3,
   "id": "614e9299",
   "metadata": {},
   "outputs": [],
   "source": [
    "import pandas as pd"
   ]
  },
  {
   "cell_type": "code",
   "execution_count": 4,
   "id": "6e9843fa",
   "metadata": {},
   "outputs": [],
   "source": [
    "import numpy as np"
   ]
  },
  {
   "cell_type": "code",
   "execution_count": 5,
   "id": "c05dd0ab",
   "metadata": {
    "scrolled": true
   },
   "outputs": [
    {
     "data": {
      "text/plain": [
       "pandas.core.series.Series"
      ]
     },
     "execution_count": 5,
     "metadata": {},
     "output_type": "execute_result"
    }
   ],
   "source": [
    "pd.Series"
   ]
  },
  {
   "cell_type": "code",
   "execution_count": 6,
   "id": "79ea86c8",
   "metadata": {},
   "outputs": [],
   "source": [
    "%config Completer.use_jedi = False"
   ]
  },
  {
   "cell_type": "code",
   "execution_count": 7,
   "id": "e61ac97c",
   "metadata": {},
   "outputs": [
    {
     "data": {
      "text/plain": [
       "pandas.core.series.Series"
      ]
     },
     "execution_count": 7,
     "metadata": {},
     "output_type": "execute_result"
    }
   ],
   "source": [
    "pd.Series"
   ]
  },
  {
   "cell_type": "code",
   "execution_count": 8,
   "id": "baa7636e",
   "metadata": {},
   "outputs": [
    {
     "name": "stderr",
     "output_type": "stream",
     "text": [
      "C:\\Users\\seolah\\AppData\\Local\\Temp\\ipykernel_27908\\2031691219.py:1: FutureWarning: The default dtype for empty Series will be 'object' instead of 'float64' in a future version. Specify a dtype explicitly to silence this warning.\n",
      "  pd.Series()\n"
     ]
    },
    {
     "data": {
      "text/plain": [
       "Series([], dtype: float64)"
      ]
     },
     "execution_count": 8,
     "metadata": {},
     "output_type": "execute_result"
    }
   ],
   "source": [
    "pd.Series()"
   ]
  },
  {
   "cell_type": "code",
   "execution_count": 9,
   "id": "583d6142",
   "metadata": {},
   "outputs": [],
   "source": [
    "iceCream = [\n",
    "    \"Choco\",\n",
    "    \"Vanilla\",\n",
    "    \"Strawberry\",\n",
    "    \"Rum Raisin\"\n",
    "]"
   ]
  },
  {
   "cell_type": "code",
   "execution_count": 10,
   "id": "005dc88f",
   "metadata": {},
   "outputs": [
    {
     "data": {
      "text/plain": [
       "0         Choco\n",
       "1       Vanilla\n",
       "2    Strawberry\n",
       "3    Rum Raisin\n",
       "dtype: object"
      ]
     },
     "execution_count": 10,
     "metadata": {},
     "output_type": "execute_result"
    }
   ],
   "source": [
    "pd.Series(iceCream)"
   ]
  },
  {
   "cell_type": "code",
   "execution_count": 11,
   "id": "569df895",
   "metadata": {},
   "outputs": [],
   "source": [
    "days = (\"Monday\", \"Wednesday\", \"Friday\", \"Saturday\")"
   ]
  },
  {
   "cell_type": "code",
   "execution_count": 12,
   "id": "7329cd86",
   "metadata": {},
   "outputs": [
    {
     "data": {
      "text/plain": [
       "Monday            Choco\n",
       "Wednesday       Vanilla\n",
       "Friday       Strawberry\n",
       "Saturday     Rum Raisin\n",
       "dtype: object"
      ]
     },
     "execution_count": 12,
     "metadata": {},
     "output_type": "execute_result"
    }
   ],
   "source": [
    "pd.Series(data = iceCream, index = days)"
   ]
  },
  {
   "cell_type": "code",
   "execution_count": 13,
   "id": "baa8c06a",
   "metadata": {},
   "outputs": [],
   "source": [
    "bools = [True, False, True]"
   ]
  },
  {
   "cell_type": "code",
   "execution_count": 14,
   "id": "59ba86d4",
   "metadata": {},
   "outputs": [
    {
     "data": {
      "text/plain": [
       "0     True\n",
       "1    False\n",
       "2     True\n",
       "dtype: bool"
      ]
     },
     "execution_count": 14,
     "metadata": {},
     "output_type": "execute_result"
    }
   ],
   "source": [
    "pd.Series(bools)"
   ]
  },
  {
   "cell_type": "code",
   "execution_count": 15,
   "id": "8418fedc",
   "metadata": {},
   "outputs": [],
   "source": [
    "numbers = [6,2,46,135,64]"
   ]
  },
  {
   "cell_type": "code",
   "execution_count": 16,
   "id": "5c697451",
   "metadata": {},
   "outputs": [
    {
     "data": {
      "text/plain": [
       "0      6\n",
       "1      2\n",
       "2     46\n",
       "3    135\n",
       "4     64\n",
       "dtype: int64"
      ]
     },
     "execution_count": 16,
     "metadata": {},
     "output_type": "execute_result"
    }
   ],
   "source": [
    "pd.Series(numbers)"
   ]
  },
  {
   "cell_type": "code",
   "execution_count": 17,
   "id": "1af00dd0",
   "metadata": {},
   "outputs": [
    {
     "data": {
      "text/plain": [
       "0      6.0\n",
       "1      2.0\n",
       "2     46.0\n",
       "3    135.0\n",
       "4     64.0\n",
       "dtype: float64"
      ]
     },
     "execution_count": 17,
     "metadata": {},
     "output_type": "execute_result"
    }
   ],
   "source": [
    "pd.Series(numbers, dtype = \"float\")"
   ]
  },
  {
   "cell_type": "code",
   "execution_count": 6,
   "id": "b88836e2",
   "metadata": {},
   "outputs": [],
   "source": [
    "temp = [9, 88, np.nan, 91]"
   ]
  },
  {
   "cell_type": "code",
   "execution_count": 7,
   "id": "61f062d3",
   "metadata": {},
   "outputs": [
    {
     "data": {
      "text/plain": [
       "0     9.0\n",
       "1    88.0\n",
       "2     NaN\n",
       "3    91.0\n",
       "dtype: float64"
      ]
     },
     "execution_count": 7,
     "metadata": {},
     "output_type": "execute_result"
    }
   ],
   "source": [
    "pd.Series(data = temp)"
   ]
  },
  {
   "cell_type": "code",
   "execution_count": 8,
   "id": "6cd76643",
   "metadata": {},
   "outputs": [],
   "source": [
    "my_set = {\"Ricky\", \"Bobby\"}"
   ]
  },
  {
   "cell_type": "code",
   "execution_count": 9,
   "id": "2b4df8ce",
   "metadata": {},
   "outputs": [
    {
     "data": {
      "text/plain": [
       "0    Ricky\n",
       "1    Bobby\n",
       "dtype: object"
      ]
     },
     "execution_count": 9,
     "metadata": {},
     "output_type": "execute_result"
    }
   ],
   "source": [
    "pd.Series(list(my_set))"
   ]
  },
  {
   "cell_type": "code",
   "execution_count": 10,
   "id": "f426d601",
   "metadata": {},
   "outputs": [],
   "source": [
    "rndNum = np.random.randint(1, 101, 10)"
   ]
  },
  {
   "cell_type": "code",
   "execution_count": 11,
   "id": "4b58b6cd",
   "metadata": {},
   "outputs": [
    {
     "data": {
      "text/plain": [
       "array([  6,  66,   7,  26,  45,  78,  59,  85,  73, 100])"
      ]
     },
     "execution_count": 11,
     "metadata": {},
     "output_type": "execute_result"
    }
   ],
   "source": [
    "rndNum"
   ]
  },
  {
   "cell_type": "code",
   "execution_count": 12,
   "id": "b1986d99",
   "metadata": {},
   "outputs": [
    {
     "data": {
      "text/plain": [
       "0      6\n",
       "1     66\n",
       "2      7\n",
       "3     26\n",
       "4     45\n",
       "5     78\n",
       "6     59\n",
       "7     85\n",
       "8     73\n",
       "9    100\n",
       "dtype: int32"
      ]
     },
     "execution_count": 12,
     "metadata": {},
     "output_type": "execute_result"
    }
   ],
   "source": [
    "pd.Series(rndNum)"
   ]
  },
  {
   "cell_type": "code",
   "execution_count": 13,
   "id": "6977f7bf",
   "metadata": {},
   "outputs": [],
   "source": [
    "value = range(0, 500,5)"
   ]
  },
  {
   "cell_type": "code",
   "execution_count": 14,
   "id": "8b6a957e",
   "metadata": {},
   "outputs": [],
   "source": [
    "nums = pd.Series(data = value)"
   ]
  },
  {
   "cell_type": "code",
   "execution_count": 15,
   "id": "a941798a",
   "metadata": {},
   "outputs": [
    {
     "data": {
      "text/plain": [
       "0       0\n",
       "1       5\n",
       "2      10\n",
       "3      15\n",
       "4      20\n",
       "     ... \n",
       "95    475\n",
       "96    480\n",
       "97    485\n",
       "98    490\n",
       "99    495\n",
       "Length: 100, dtype: int64"
      ]
     },
     "execution_count": 15,
     "metadata": {},
     "output_type": "execute_result"
    }
   ],
   "source": [
    "nums"
   ]
  },
  {
   "cell_type": "code",
   "execution_count": null,
   "id": "e7435a9b",
   "metadata": {},
   "outputs": [],
   "source": []
  }
 ],
 "metadata": {
  "kernelspec": {
   "display_name": "Python 3 (ipykernel)",
   "language": "python",
   "name": "python3"
  },
  "language_info": {
   "codemirror_mode": {
    "name": "ipython",
    "version": 3
   },
   "file_extension": ".py",
   "mimetype": "text/x-python",
   "name": "python",
   "nbconvert_exporter": "python",
   "pygments_lexer": "ipython3",
   "version": "3.10.9"
  }
 },
 "nbformat": 4,
 "nbformat_minor": 5
}

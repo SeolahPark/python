{
 "cells": [
  {
   "cell_type": "code",
   "execution_count": 1,
   "id": "092fdb73",
   "metadata": {},
   "outputs": [],
   "source": [
    "import pandas as pd"
   ]
  },
  {
   "cell_type": "code",
   "execution_count": 20,
   "id": "5f979f97",
   "metadata": {},
   "outputs": [],
   "source": [
    "df = pd.read_excel(io='OJT.xls', \n",
    "                   sheet_name='공공데이터',\n",
    "                   usecols='B:C',\n",
    "                   names = ['RCP_PARTS_DTLS', '레시피명'])"
   ]
  },
  {
   "cell_type": "code",
   "execution_count": 21,
   "id": "58b8e1a5",
   "metadata": {},
   "outputs": [
    {
     "data": {
      "text/html": [
       "<div>\n",
       "<style scoped>\n",
       "    .dataframe tbody tr th:only-of-type {\n",
       "        vertical-align: middle;\n",
       "    }\n",
       "\n",
       "    .dataframe tbody tr th {\n",
       "        vertical-align: top;\n",
       "    }\n",
       "\n",
       "    .dataframe thead th {\n",
       "        text-align: right;\n",
       "    }\n",
       "</style>\n",
       "<table border=\"1\" class=\"dataframe\">\n",
       "  <thead>\n",
       "    <tr style=\"text-align: right;\">\n",
       "      <th></th>\n",
       "      <th>RCP_PARTS_DTLS</th>\n",
       "      <th>레시피명</th>\n",
       "    </tr>\n",
       "  </thead>\n",
       "  <tbody>\n",
       "    <tr>\n",
       "      <th>0</th>\n",
       "      <td>고구마죽\\n고구마 100g(2/3개), 설탕 2g(1/3작은술), 찹쌀가루 3g(2...</td>\n",
       "      <td>칼륨 듬뿍 고구마죽</td>\n",
       "    </tr>\n",
       "    <tr>\n",
       "      <th>1</th>\n",
       "      <td>채소준비\\n애호박 30g(1/6개), 표고버섯 20g(2개), 당근 5g(3×2×1...</td>\n",
       "      <td>누룽지 두부 계란죽</td>\n",
       "    </tr>\n",
       "    <tr>\n",
       "      <th>2</th>\n",
       "      <td>초밥\\n밥 210g(1공기)\\n배합초\\n식초 20g(1⅓큰술), 설탕 10g(2작은...</td>\n",
       "      <td>오색지라시 스시</td>\n",
       "    </tr>\n",
       "    <tr>\n",
       "      <th>3</th>\n",
       "      <td>두부 곤약잡곡밥\\n두부 110g(⅓모), 흰쌀 15g, 현미쌀 3g, 찹쌀 3g, ...</td>\n",
       "      <td>두부 곤약 나물 비빔밥</td>\n",
       "    </tr>\n",
       "    <tr>\n",
       "      <th>4</th>\n",
       "      <td>흑미밥\\n쌀 90g, 검은 쌀 10g\\n닭가슴살 삶기\\n닭가슴살 40g(1/3개),...</td>\n",
       "      <td>저염 간장을 이용한 닭개장 비빔밥</td>\n",
       "    </tr>\n",
       "    <tr>\n",
       "      <th>...</th>\n",
       "      <td>...</td>\n",
       "      <td>...</td>\n",
       "    </tr>\n",
       "    <tr>\n",
       "      <th>1353</th>\n",
       "      <td>[ 2인분 ] 마늘(4쪽), 토마토(2개), 양파(1개), 월계수잎(2장), 육수용...</td>\n",
       "      <td>양파토마토스튜</td>\n",
       "    </tr>\n",
       "    <tr>\n",
       "      <th>1354</th>\n",
       "      <td>[ 2인분 ] 황금팽이버섯(400g), 양파( 개), 상추(2장), 깻잎(2장), ...</td>\n",
       "      <td>황금팽이 비빔국수</td>\n",
       "    </tr>\n",
       "    <tr>\n",
       "      <th>1355</th>\n",
       "      <td>[ 4인분 ] 미역 줄기(1팩=300g), 양파(½개), 맛살(135g), 건새우(...</td>\n",
       "      <td>맛살 미역줄기전</td>\n",
       "    </tr>\n",
       "    <tr>\n",
       "      <th>1356</th>\n",
       "      <td>[ 2인분 ] 새송이버섯(1개), 방울토마토(200g), 오징어(1마리), 칵테일새...</td>\n",
       "      <td>해산물샐러드와 미나리소스</td>\n",
       "    </tr>\n",
       "    <tr>\n",
       "      <th>1357</th>\n",
       "      <td>[ 2인분 ] 토마토(2개), 양파(¼개), 감자(¼개), 노랑 파프리카(¼개), ...</td>\n",
       "      <td>매운요거트 토마토샐러드</td>\n",
       "    </tr>\n",
       "  </tbody>\n",
       "</table>\n",
       "<p>1358 rows × 2 columns</p>\n",
       "</div>"
      ],
      "text/plain": [
       "                                         RCP_PARTS_DTLS                레시피명\n",
       "0     고구마죽\\n고구마 100g(2/3개), 설탕 2g(1/3작은술), 찹쌀가루 3g(2...          칼륨 듬뿍 고구마죽\n",
       "1     채소준비\\n애호박 30g(1/6개), 표고버섯 20g(2개), 당근 5g(3×2×1...          누룽지 두부 계란죽\n",
       "2     초밥\\n밥 210g(1공기)\\n배합초\\n식초 20g(1⅓큰술), 설탕 10g(2작은...            오색지라시 스시\n",
       "3     두부 곤약잡곡밥\\n두부 110g(⅓모), 흰쌀 15g, 현미쌀 3g, 찹쌀 3g, ...        두부 곤약 나물 비빔밥\n",
       "4     흑미밥\\n쌀 90g, 검은 쌀 10g\\n닭가슴살 삶기\\n닭가슴살 40g(1/3개),...  저염 간장을 이용한 닭개장 비빔밥\n",
       "...                                                 ...                 ...\n",
       "1353  [ 2인분 ] 마늘(4쪽), 토마토(2개), 양파(1개), 월계수잎(2장), 육수용...             양파토마토스튜\n",
       "1354  [ 2인분 ] 황금팽이버섯(400g), 양파( 개), 상추(2장), 깻잎(2장), ...           황금팽이 비빔국수\n",
       "1355  [ 4인분 ] 미역 줄기(1팩=300g), 양파(½개), 맛살(135g), 건새우(...            맛살 미역줄기전\n",
       "1356  [ 2인분 ] 새송이버섯(1개), 방울토마토(200g), 오징어(1마리), 칵테일새...       해산물샐러드와 미나리소스\n",
       "1357  [ 2인분 ] 토마토(2개), 양파(¼개), 감자(¼개), 노랑 파프리카(¼개), ...        매운요거트 토마토샐러드\n",
       "\n",
       "[1358 rows x 2 columns]"
      ]
     },
     "execution_count": 21,
     "metadata": {},
     "output_type": "execute_result"
    }
   ],
   "source": [
    "df"
   ]
  },
  {
   "cell_type": "code",
   "execution_count": 22,
   "id": "e6e1d05b",
   "metadata": {},
   "outputs": [],
   "source": [
    "df[[\"단계\",\"재료\"]] = df[\"RCP_PARTS_DTLS\"].str.split(pat = \"\\n\", n=1, expand = True)\n",
    "df = df.drop(labels = \"RCP_PARTS_DTLS\", axis = \"columns\")"
   ]
  },
  {
   "cell_type": "code",
   "execution_count": 23,
   "id": "54114e97",
   "metadata": {},
   "outputs": [
    {
     "data": {
      "text/html": [
       "<div>\n",
       "<style scoped>\n",
       "    .dataframe tbody tr th:only-of-type {\n",
       "        vertical-align: middle;\n",
       "    }\n",
       "\n",
       "    .dataframe tbody tr th {\n",
       "        vertical-align: top;\n",
       "    }\n",
       "\n",
       "    .dataframe thead th {\n",
       "        text-align: right;\n",
       "    }\n",
       "</style>\n",
       "<table border=\"1\" class=\"dataframe\">\n",
       "  <thead>\n",
       "    <tr style=\"text-align: right;\">\n",
       "      <th></th>\n",
       "      <th>레시피명</th>\n",
       "      <th>단계</th>\n",
       "      <th>재료</th>\n",
       "    </tr>\n",
       "  </thead>\n",
       "  <tbody>\n",
       "    <tr>\n",
       "      <th>0</th>\n",
       "      <td>칼륨 듬뿍 고구마죽</td>\n",
       "      <td>고구마죽</td>\n",
       "      <td>고구마 100g(2/3개), 설탕 2g(1/3작은술), 찹쌀가루 3g(2/3작은술)...</td>\n",
       "    </tr>\n",
       "    <tr>\n",
       "      <th>1</th>\n",
       "      <td>누룽지 두부 계란죽</td>\n",
       "      <td>채소준비</td>\n",
       "      <td>애호박 30g(1/6개), 표고버섯 20g(2개), 당근 5g(3×2×1cm)\\n누...</td>\n",
       "    </tr>\n",
       "    <tr>\n",
       "      <th>2</th>\n",
       "      <td>오색지라시 스시</td>\n",
       "      <td>초밥</td>\n",
       "      <td>밥 210g(1공기)\\n배합초\\n식초 20g(1⅓큰술), 설탕 10g(2작은술), ...</td>\n",
       "    </tr>\n",
       "    <tr>\n",
       "      <th>3</th>\n",
       "      <td>두부 곤약 나물 비빔밥</td>\n",
       "      <td>두부 곤약잡곡밥</td>\n",
       "      <td>두부 110g(⅓모), 흰쌀 15g, 현미쌀 3g, 찹쌀 3g, 실곤약 3g\\n나물...</td>\n",
       "    </tr>\n",
       "    <tr>\n",
       "      <th>4</th>\n",
       "      <td>저염 간장을 이용한 닭개장 비빔밥</td>\n",
       "      <td>흑미밥</td>\n",
       "      <td>쌀 90g, 검은 쌀 10g\\n닭가슴살 삶기\\n닭가슴살 40g(1/3개), 월계수 ...</td>\n",
       "    </tr>\n",
       "  </tbody>\n",
       "</table>\n",
       "</div>"
      ],
      "text/plain": [
       "                 레시피명        단계  \\\n",
       "0          칼륨 듬뿍 고구마죽      고구마죽   \n",
       "1          누룽지 두부 계란죽      채소준비   \n",
       "2            오색지라시 스시        초밥   \n",
       "3        두부 곤약 나물 비빔밥  두부 곤약잡곡밥   \n",
       "4  저염 간장을 이용한 닭개장 비빔밥       흑미밥   \n",
       "\n",
       "                                                  재료  \n",
       "0  고구마 100g(2/3개), 설탕 2g(1/3작은술), 찹쌀가루 3g(2/3작은술)...  \n",
       "1  애호박 30g(1/6개), 표고버섯 20g(2개), 당근 5g(3×2×1cm)\\n누...  \n",
       "2  밥 210g(1공기)\\n배합초\\n식초 20g(1⅓큰술), 설탕 10g(2작은술), ...  \n",
       "3  두부 110g(⅓모), 흰쌀 15g, 현미쌀 3g, 찹쌀 3g, 실곤약 3g\\n나물...  \n",
       "4  쌀 90g, 검은 쌀 10g\\n닭가슴살 삶기\\n닭가슴살 40g(1/3개), 월계수 ...  "
      ]
     },
     "execution_count": 23,
     "metadata": {},
     "output_type": "execute_result"
    }
   ],
   "source": [
    "df.head()"
   ]
  },
  {
   "cell_type": "code",
   "execution_count": 29,
   "id": "6b3701f6",
   "metadata": {},
   "outputs": [
    {
     "data": {
      "text/plain": [
       "0    [고구마 100g(2/3개),  설탕 2g(1/3작은술),  찹쌀가루 3g(2/3작...\n",
       "1    [애호박 30g(1/6개),  표고버섯 20g(2개),  당근 5g(3×2×1cm)...\n",
       "2    [밥 210g(1공기)\\n배합초\\n식초 20g(1⅓큰술),  설탕 10g(2작은술)...\n",
       "3    [두부 110g(⅓모),  흰쌀 15g,  현미쌀 3g,  찹쌀 3g,  실곤약 3...\n",
       "4    [쌀 90g,  검은 쌀 10g\\n닭가슴살 삶기\\n닭가슴살 40g(1/3개),  월...\n",
       "Name: 재료, dtype: object"
      ]
     },
     "execution_count": 29,
     "metadata": {},
     "output_type": "execute_result"
    }
   ],
   "source": [
    "res = df['재료'].str.split(',')\n",
    "res.head()"
   ]
  },
  {
   "cell_type": "raw",
   "id": "a2d48f29",
   "metadata": {},
   "source": [
    "res = res.apply(lambda x : pd.Series(x))"
   ]
  }
 ],
 "metadata": {
  "kernelspec": {
   "display_name": "Python 3 (ipykernel)",
   "language": "python",
   "name": "python3"
  },
  "language_info": {
   "codemirror_mode": {
    "name": "ipython",
    "version": 3
   },
   "file_extension": ".py",
   "mimetype": "text/x-python",
   "name": "python",
   "nbconvert_exporter": "python",
   "pygments_lexer": "ipython3",
   "version": "3.10.9"
  }
 },
 "nbformat": 4,
 "nbformat_minor": 5
}
